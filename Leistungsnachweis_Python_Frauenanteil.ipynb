{
 "cells": [
  {
   "cell_type": "markdown",
   "metadata": {},
   "source": [
    "## Frauenanteil der Bevölkerung zwischen 2000 und 2020\n",
    "\n",
    " Gruppe: Miranda Downing, Elena Buchli\n",
    "\n",
    " Fragen: \n",
    " \n",
    " -In welchen Ländern ist der Bevölkerungsanteil der Frauen zwischen 2000 und 2020 am meisten gesunken oder gestiegen?\n",
    " \n",
    " -Welche Gründe gibt es für die Veränderungen?\n",
    "\n",
    " Quellen:\n",
    " \n",
    " https://ourworldindata.org/gender-ratio"
   ]
  },
  {
   "cell_type": "markdown",
   "metadata": {},
   "source": [
    "### 1. Daten beschaffen und laden\n"
   ]
  },
  {
   "cell_type": "code",
   "execution_count": 1,
   "metadata": {},
   "outputs": [],
   "source": [
    "import pandas as pd\n",
    "import seaborn as sns\n",
    "from matplotlib import pyplot as plt"
   ]
  },
  {
   "cell_type": "code",
   "execution_count": 2,
   "metadata": {},
   "outputs": [
    {
     "data": {
      "text/html": [
       "<div>\n",
       "<style scoped>\n",
       "    .dataframe tbody tr th:only-of-type {\n",
       "        vertical-align: middle;\n",
       "    }\n",
       "\n",
       "    .dataframe tbody tr th {\n",
       "        vertical-align: top;\n",
       "    }\n",
       "\n",
       "    .dataframe thead th {\n",
       "        text-align: right;\n",
       "    }\n",
       "</style>\n",
       "<table border=\"1\" class=\"dataframe\">\n",
       "  <thead>\n",
       "    <tr style=\"text-align: right;\">\n",
       "      <th></th>\n",
       "      <th>Gebiet</th>\n",
       "      <th>Code</th>\n",
       "      <th>Jahr</th>\n",
       "      <th>Anteil Population weiblich in %</th>\n",
       "    </tr>\n",
       "  </thead>\n",
       "  <tbody>\n",
       "    <tr>\n",
       "      <th>0</th>\n",
       "      <td>Afghanistan</td>\n",
       "      <td>AFG</td>\n",
       "      <td>1960</td>\n",
       "      <td>48.083054</td>\n",
       "    </tr>\n",
       "    <tr>\n",
       "      <th>1</th>\n",
       "      <td>Afghanistan</td>\n",
       "      <td>AFG</td>\n",
       "      <td>1961</td>\n",
       "      <td>48.165000</td>\n",
       "    </tr>\n",
       "    <tr>\n",
       "      <th>2</th>\n",
       "      <td>Afghanistan</td>\n",
       "      <td>AFG</td>\n",
       "      <td>1962</td>\n",
       "      <td>48.242370</td>\n",
       "    </tr>\n",
       "    <tr>\n",
       "      <th>3</th>\n",
       "      <td>Afghanistan</td>\n",
       "      <td>AFG</td>\n",
       "      <td>1963</td>\n",
       "      <td>48.315890</td>\n",
       "    </tr>\n",
       "    <tr>\n",
       "      <th>4</th>\n",
       "      <td>Afghanistan</td>\n",
       "      <td>AFG</td>\n",
       "      <td>1964</td>\n",
       "      <td>48.385273</td>\n",
       "    </tr>\n",
       "  </tbody>\n",
       "</table>\n",
       "</div>"
      ],
      "text/plain": [
       "        Gebiet Code  Jahr  Anteil Population weiblich in %\n",
       "0  Afghanistan  AFG  1960                        48.083054\n",
       "1  Afghanistan  AFG  1961                        48.165000\n",
       "2  Afghanistan  AFG  1962                        48.242370\n",
       "3  Afghanistan  AFG  1963                        48.315890\n",
       "4  Afghanistan  AFG  1964                        48.385273"
      ]
     },
     "execution_count": 2,
     "metadata": {},
     "output_type": "execute_result"
    }
   ],
   "source": [
    "df = pd.read_csv('share-population-female.csv', skiprows=1, \n",
    "                 names=['Gebiet','Code','Jahr','Anteil Population weiblich in %']) \n",
    "df.head()  "
   ]
  },
  {
   "cell_type": "markdown",
   "metadata": {},
   "source": [
    "### 2. Daten vorbereiten\n",
    "\n",
    "- Der Datensatz ist im Longformat. \n",
    "- Für die Analyse werden die Daten pivotiert. Jede Zeile beschreibt die Daten eines Gebiets. Jede Spalte die Daten des entsprechenden Jahres in aufsteigender Reihenfolge.\n",
    "- Folgende Datentypen kommen in unserem Datentyp vor: Gebiet und Code = Object, Jahr = Integer, Anteil Population weiblich in % = Float\n",
    "- Die Daten der Gebiete \"East Asia and Pacific (WB)\",\n",
    "    \"Europe and Central Asia (WB)\",\n",
    "    \"European Union (27)\",\n",
    "    \"High-income countries\",\n",
    "    \"Latin America and Caribbean (WB)\",\n",
    "    \"Lower-middle-income countries\",\n",
    "    \"Low-income countries\",\n",
    "    \"Middle East and North Africa (WB)\",\n",
    "    \"Middle-income countries\",\n",
    "    \"North America (WB)\",\n",
    "    \"South Asia (WB)\",\n",
    "    \"Sub-Saharan Africa (WB)\", \n",
    "    \"Upper-middle-income countries\", \n",
    "    \"World\"\n",
    "wurden aus dem Datensatz herausgefiltert, da sie den Vergleich der Länder verfälschen könnten.\n"
   ]
  },
  {
   "cell_type": "code",
   "execution_count": 3,
   "metadata": {},
   "outputs": [
    {
     "data": {
      "text/html": [
       "<div>\n",
       "<style scoped>\n",
       "    .dataframe tbody tr th:only-of-type {\n",
       "        vertical-align: middle;\n",
       "    }\n",
       "\n",
       "    .dataframe tbody tr th {\n",
       "        vertical-align: top;\n",
       "    }\n",
       "\n",
       "    .dataframe thead th {\n",
       "        text-align: right;\n",
       "    }\n",
       "</style>\n",
       "<table border=\"1\" class=\"dataframe\">\n",
       "  <thead>\n",
       "    <tr style=\"text-align: right;\">\n",
       "      <th></th>\n",
       "      <th>Gebiet</th>\n",
       "      <th>Code</th>\n",
       "      <th>Jahr</th>\n",
       "      <th>Anteil Population weiblich in %</th>\n",
       "    </tr>\n",
       "  </thead>\n",
       "  <tbody>\n",
       "    <tr>\n",
       "      <th>0</th>\n",
       "      <td>Afghanistan</td>\n",
       "      <td>AFG</td>\n",
       "      <td>1960</td>\n",
       "      <td>48.083054</td>\n",
       "    </tr>\n",
       "    <tr>\n",
       "      <th>1</th>\n",
       "      <td>Afghanistan</td>\n",
       "      <td>AFG</td>\n",
       "      <td>1961</td>\n",
       "      <td>48.165000</td>\n",
       "    </tr>\n",
       "    <tr>\n",
       "      <th>2</th>\n",
       "      <td>Afghanistan</td>\n",
       "      <td>AFG</td>\n",
       "      <td>1962</td>\n",
       "      <td>48.242370</td>\n",
       "    </tr>\n",
       "    <tr>\n",
       "      <th>3</th>\n",
       "      <td>Afghanistan</td>\n",
       "      <td>AFG</td>\n",
       "      <td>1963</td>\n",
       "      <td>48.315890</td>\n",
       "    </tr>\n",
       "    <tr>\n",
       "      <th>4</th>\n",
       "      <td>Afghanistan</td>\n",
       "      <td>AFG</td>\n",
       "      <td>1964</td>\n",
       "      <td>48.385273</td>\n",
       "    </tr>\n",
       "    <tr>\n",
       "      <th>...</th>\n",
       "      <td>...</td>\n",
       "      <td>...</td>\n",
       "      <td>...</td>\n",
       "      <td>...</td>\n",
       "    </tr>\n",
       "    <tr>\n",
       "      <th>14548</th>\n",
       "      <td>Zimbabwe</td>\n",
       "      <td>ZWE</td>\n",
       "      <td>2018</td>\n",
       "      <td>52.923756</td>\n",
       "    </tr>\n",
       "    <tr>\n",
       "      <th>14549</th>\n",
       "      <td>Zimbabwe</td>\n",
       "      <td>ZWE</td>\n",
       "      <td>2019</td>\n",
       "      <td>52.900196</td>\n",
       "    </tr>\n",
       "    <tr>\n",
       "      <th>14550</th>\n",
       "      <td>Zimbabwe</td>\n",
       "      <td>ZWE</td>\n",
       "      <td>2020</td>\n",
       "      <td>52.869328</td>\n",
       "    </tr>\n",
       "    <tr>\n",
       "      <th>14551</th>\n",
       "      <td>Zimbabwe</td>\n",
       "      <td>ZWE</td>\n",
       "      <td>2021</td>\n",
       "      <td>52.832848</td>\n",
       "    </tr>\n",
       "    <tr>\n",
       "      <th>14552</th>\n",
       "      <td>Zimbabwe</td>\n",
       "      <td>ZWE</td>\n",
       "      <td>2022</td>\n",
       "      <td>52.785854</td>\n",
       "    </tr>\n",
       "  </tbody>\n",
       "</table>\n",
       "<p>13671 rows × 4 columns</p>\n",
       "</div>"
      ],
      "text/plain": [
       "            Gebiet Code  Jahr  Anteil Population weiblich in %\n",
       "0      Afghanistan  AFG  1960                        48.083054\n",
       "1      Afghanistan  AFG  1961                        48.165000\n",
       "2      Afghanistan  AFG  1962                        48.242370\n",
       "3      Afghanistan  AFG  1963                        48.315890\n",
       "4      Afghanistan  AFG  1964                        48.385273\n",
       "...            ...  ...   ...                              ...\n",
       "14548     Zimbabwe  ZWE  2018                        52.923756\n",
       "14549     Zimbabwe  ZWE  2019                        52.900196\n",
       "14550     Zimbabwe  ZWE  2020                        52.869328\n",
       "14551     Zimbabwe  ZWE  2021                        52.832848\n",
       "14552     Zimbabwe  ZWE  2022                        52.785854\n",
       "\n",
       "[13671 rows x 4 columns]"
      ]
     },
     "execution_count": 3,
     "metadata": {},
     "output_type": "execute_result"
    }
   ],
   "source": [
    "zu_entfernende_gebiete =  [\n",
    "    \"East Asia and Pacific (WB)\",\n",
    "    \"Europe and Central Asia (WB)\",\n",
    "    \"European Union (27)\",\n",
    "    \"High-income countries\",\n",
    "    \"Latin America and Caribbean (WB)\",\n",
    "    \"Lower-middle-income countries\",\n",
    "    \"Low-income countries\",\n",
    "    \"Middle East and North Africa (WB)\",\n",
    "    \"Middle-income countries\",\n",
    "    \"North America (WB)\",\n",
    "    \"South Asia (WB)\",\n",
    "    \"Sub-Saharan Africa (WB)\",\n",
    "    \"Upper-middle-income countries\",\n",
    "    \"World\"\n",
    "]\n",
    "df_filtered=df[~df['Gebiet'].isin(zu_entfernende_gebiete)]\n",
    "df_filtered"
   ]
  },
  {
   "cell_type": "code",
   "execution_count": 4,
   "metadata": {},
   "outputs": [
    {
     "data": {
      "text/html": [
       "<div>\n",
       "<style scoped>\n",
       "    .dataframe tbody tr th:only-of-type {\n",
       "        vertical-align: middle;\n",
       "    }\n",
       "\n",
       "    .dataframe tbody tr th {\n",
       "        vertical-align: top;\n",
       "    }\n",
       "\n",
       "    .dataframe thead th {\n",
       "        text-align: right;\n",
       "    }\n",
       "</style>\n",
       "<table border=\"1\" class=\"dataframe\">\n",
       "  <thead>\n",
       "    <tr style=\"text-align: right;\">\n",
       "      <th></th>\n",
       "      <th>Gebiet</th>\n",
       "      <th>Code</th>\n",
       "      <th>Jahr</th>\n",
       "      <th>Anteil Population weiblich in %</th>\n",
       "    </tr>\n",
       "  </thead>\n",
       "  <tbody>\n",
       "  </tbody>\n",
       "</table>\n",
       "</div>"
      ],
      "text/plain": [
       "Empty DataFrame\n",
       "Columns: [Gebiet, Code, Jahr, Anteil Population weiblich in %]\n",
       "Index: []"
      ]
     },
     "execution_count": 4,
     "metadata": {},
     "output_type": "execute_result"
    }
   ],
   "source": [
    "df_filtered[df_filtered['Gebiet'].isin(zu_entfernende_gebiete)]"
   ]
  },
  {
   "cell_type": "code",
   "execution_count": 5,
   "metadata": {},
   "outputs": [
    {
     "data": {
      "text/html": [
       "<div>\n",
       "<style scoped>\n",
       "    .dataframe tbody tr th:only-of-type {\n",
       "        vertical-align: middle;\n",
       "    }\n",
       "\n",
       "    .dataframe tbody tr th {\n",
       "        vertical-align: top;\n",
       "    }\n",
       "\n",
       "    .dataframe thead th {\n",
       "        text-align: right;\n",
       "    }\n",
       "</style>\n",
       "<table border=\"1\" class=\"dataframe\">\n",
       "  <thead>\n",
       "    <tr style=\"text-align: right;\">\n",
       "      <th>Jahr</th>\n",
       "      <th>1960</th>\n",
       "      <th>1961</th>\n",
       "      <th>1962</th>\n",
       "      <th>1963</th>\n",
       "      <th>1964</th>\n",
       "      <th>1965</th>\n",
       "      <th>1966</th>\n",
       "      <th>1967</th>\n",
       "      <th>1968</th>\n",
       "      <th>1969</th>\n",
       "      <th>...</th>\n",
       "      <th>2013</th>\n",
       "      <th>2014</th>\n",
       "      <th>2015</th>\n",
       "      <th>2016</th>\n",
       "      <th>2017</th>\n",
       "      <th>2018</th>\n",
       "      <th>2019</th>\n",
       "      <th>2020</th>\n",
       "      <th>2021</th>\n",
       "      <th>2022</th>\n",
       "    </tr>\n",
       "    <tr>\n",
       "      <th>Gebiet</th>\n",
       "      <th></th>\n",
       "      <th></th>\n",
       "      <th></th>\n",
       "      <th></th>\n",
       "      <th></th>\n",
       "      <th></th>\n",
       "      <th></th>\n",
       "      <th></th>\n",
       "      <th></th>\n",
       "      <th></th>\n",
       "      <th></th>\n",
       "      <th></th>\n",
       "      <th></th>\n",
       "      <th></th>\n",
       "      <th></th>\n",
       "      <th></th>\n",
       "      <th></th>\n",
       "      <th></th>\n",
       "      <th></th>\n",
       "      <th></th>\n",
       "      <th></th>\n",
       "    </tr>\n",
       "  </thead>\n",
       "  <tbody>\n",
       "    <tr>\n",
       "      <th>Afghanistan</th>\n",
       "      <td>48.083054</td>\n",
       "      <td>48.165000</td>\n",
       "      <td>48.242370</td>\n",
       "      <td>48.315890</td>\n",
       "      <td>48.385273</td>\n",
       "      <td>48.450287</td>\n",
       "      <td>48.511803</td>\n",
       "      <td>48.570465</td>\n",
       "      <td>48.626003</td>\n",
       "      <td>48.677998</td>\n",
       "      <td>...</td>\n",
       "      <td>49.442104</td>\n",
       "      <td>49.432137</td>\n",
       "      <td>49.423183</td>\n",
       "      <td>49.414608</td>\n",
       "      <td>49.419285</td>\n",
       "      <td>49.437210</td>\n",
       "      <td>49.455486</td>\n",
       "      <td>49.470943</td>\n",
       "      <td>49.488403</td>\n",
       "      <td>49.508720</td>\n",
       "    </tr>\n",
       "    <tr>\n",
       "      <th>Albania</th>\n",
       "      <td>48.797123</td>\n",
       "      <td>48.769444</td>\n",
       "      <td>48.734352</td>\n",
       "      <td>48.691364</td>\n",
       "      <td>48.642930</td>\n",
       "      <td>48.592712</td>\n",
       "      <td>48.542490</td>\n",
       "      <td>48.491707</td>\n",
       "      <td>48.440876</td>\n",
       "      <td>48.390232</td>\n",
       "      <td>...</td>\n",
       "      <td>49.840595</td>\n",
       "      <td>49.837696</td>\n",
       "      <td>49.842410</td>\n",
       "      <td>49.856564</td>\n",
       "      <td>49.878532</td>\n",
       "      <td>49.906067</td>\n",
       "      <td>49.939330</td>\n",
       "      <td>49.988052</td>\n",
       "      <td>50.049040</td>\n",
       "      <td>50.117737</td>\n",
       "    </tr>\n",
       "    <tr>\n",
       "      <th>Algeria</th>\n",
       "      <td>49.568150</td>\n",
       "      <td>49.549220</td>\n",
       "      <td>49.444250</td>\n",
       "      <td>49.317616</td>\n",
       "      <td>49.144753</td>\n",
       "      <td>48.956123</td>\n",
       "      <td>48.868008</td>\n",
       "      <td>48.871320</td>\n",
       "      <td>48.872444</td>\n",
       "      <td>48.872456</td>\n",
       "      <td>...</td>\n",
       "      <td>49.024277</td>\n",
       "      <td>49.030834</td>\n",
       "      <td>49.037370</td>\n",
       "      <td>49.041508</td>\n",
       "      <td>49.044548</td>\n",
       "      <td>49.048107</td>\n",
       "      <td>49.053470</td>\n",
       "      <td>49.063175</td>\n",
       "      <td>49.075874</td>\n",
       "      <td>49.085533</td>\n",
       "    </tr>\n",
       "    <tr>\n",
       "      <th>American Samoa</th>\n",
       "      <td>48.648247</td>\n",
       "      <td>48.671580</td>\n",
       "      <td>48.716620</td>\n",
       "      <td>48.763042</td>\n",
       "      <td>48.812675</td>\n",
       "      <td>48.882050</td>\n",
       "      <td>48.926292</td>\n",
       "      <td>48.941566</td>\n",
       "      <td>48.972977</td>\n",
       "      <td>49.037730</td>\n",
       "      <td>...</td>\n",
       "      <td>49.757523</td>\n",
       "      <td>49.824768</td>\n",
       "      <td>49.892930</td>\n",
       "      <td>49.968285</td>\n",
       "      <td>50.061660</td>\n",
       "      <td>50.161076</td>\n",
       "      <td>50.265210</td>\n",
       "      <td>50.375630</td>\n",
       "      <td>50.507380</td>\n",
       "      <td>50.592910</td>\n",
       "    </tr>\n",
       "    <tr>\n",
       "      <th>Andorra</th>\n",
       "      <td>49.454624</td>\n",
       "      <td>49.236492</td>\n",
       "      <td>49.046670</td>\n",
       "      <td>48.847030</td>\n",
       "      <td>48.660362</td>\n",
       "      <td>48.492220</td>\n",
       "      <td>48.301937</td>\n",
       "      <td>48.034298</td>\n",
       "      <td>47.754550</td>\n",
       "      <td>47.520190</td>\n",
       "      <td>...</td>\n",
       "      <td>49.496265</td>\n",
       "      <td>49.528770</td>\n",
       "      <td>49.559560</td>\n",
       "      <td>49.507860</td>\n",
       "      <td>49.373620</td>\n",
       "      <td>49.248800</td>\n",
       "      <td>49.123035</td>\n",
       "      <td>49.014156</td>\n",
       "      <td>48.932106</td>\n",
       "      <td>48.905090</td>\n",
       "    </tr>\n",
       "  </tbody>\n",
       "</table>\n",
       "<p>5 rows × 63 columns</p>\n",
       "</div>"
      ],
      "text/plain": [
       "Jahr                 1960       1961       1962       1963       1964  \\\n",
       "Gebiet                                                                  \n",
       "Afghanistan     48.083054  48.165000  48.242370  48.315890  48.385273   \n",
       "Albania         48.797123  48.769444  48.734352  48.691364  48.642930   \n",
       "Algeria         49.568150  49.549220  49.444250  49.317616  49.144753   \n",
       "American Samoa  48.648247  48.671580  48.716620  48.763042  48.812675   \n",
       "Andorra         49.454624  49.236492  49.046670  48.847030  48.660362   \n",
       "\n",
       "Jahr                 1965       1966       1967       1968       1969  ...  \\\n",
       "Gebiet                                                                 ...   \n",
       "Afghanistan     48.450287  48.511803  48.570465  48.626003  48.677998  ...   \n",
       "Albania         48.592712  48.542490  48.491707  48.440876  48.390232  ...   \n",
       "Algeria         48.956123  48.868008  48.871320  48.872444  48.872456  ...   \n",
       "American Samoa  48.882050  48.926292  48.941566  48.972977  49.037730  ...   \n",
       "Andorra         48.492220  48.301937  48.034298  47.754550  47.520190  ...   \n",
       "\n",
       "Jahr                 2013       2014       2015       2016       2017  \\\n",
       "Gebiet                                                                  \n",
       "Afghanistan     49.442104  49.432137  49.423183  49.414608  49.419285   \n",
       "Albania         49.840595  49.837696  49.842410  49.856564  49.878532   \n",
       "Algeria         49.024277  49.030834  49.037370  49.041508  49.044548   \n",
       "American Samoa  49.757523  49.824768  49.892930  49.968285  50.061660   \n",
       "Andorra         49.496265  49.528770  49.559560  49.507860  49.373620   \n",
       "\n",
       "Jahr                 2018       2019       2020       2021       2022  \n",
       "Gebiet                                                                 \n",
       "Afghanistan     49.437210  49.455486  49.470943  49.488403  49.508720  \n",
       "Albania         49.906067  49.939330  49.988052  50.049040  50.117737  \n",
       "Algeria         49.048107  49.053470  49.063175  49.075874  49.085533  \n",
       "American Samoa  50.161076  50.265210  50.375630  50.507380  50.592910  \n",
       "Andorra         49.248800  49.123035  49.014156  48.932106  48.905090  \n",
       "\n",
       "[5 rows x 63 columns]"
      ]
     },
     "execution_count": 5,
     "metadata": {},
     "output_type": "execute_result"
    }
   ],
   "source": [
    "df_pivot = df_filtered.pivot(index='Gebiet', columns='Jahr', values='Anteil Population weiblich in %')\n",
    "df_pivot.head()"
   ]
  },
  {
   "cell_type": "markdown",
   "metadata": {},
   "source": [
    "### 3. Statistik der Rohdaten (Analyse im Long-Format)\n",
    "\n",
    "Über die einzelnen Spalten kann folgendes ausgesagt werden:\n",
    "- Die Variabeln sind kontinuierlich.\n",
    "- Die Spalte Gebiete enthält 217 verschieden Gebiete.\n",
    "- Die Spalte Codes enthält 217 verschiedene Codes.\n",
    "- Es sind Daten zwischen den Jahren 1960 and 2022 mit 63 Datenpunkten von allen Gebieten vollständig vorhanden. Daher konnte keine zusätzliche Auswertung der Gebiete mit den meisten oder wenigsten Datenpunkte erstellt werden.\n",
    "- Der weibliche Anteil der Population streut zwischen 23.39% und 55.94%."
   ]
  },
  {
   "cell_type": "code",
   "execution_count": 6,
   "metadata": {},
   "outputs": [
    {
     "data": {
      "text/plain": [
       "Gebiet                              object\n",
       "Code                                object\n",
       "Jahr                                 int64\n",
       "Anteil Population weiblich in %    float64\n",
       "dtype: object"
      ]
     },
     "execution_count": 6,
     "metadata": {},
     "output_type": "execute_result"
    }
   ],
   "source": [
    "df_filtered.dtypes"
   ]
  },
  {
   "cell_type": "markdown",
   "metadata": {},
   "source": [
    "#### 3.1 Analyse der Gebiete"
   ]
  },
  {
   "cell_type": "code",
   "execution_count": 7,
   "metadata": {},
   "outputs": [
    {
     "name": "stdout",
     "output_type": "stream",
     "text": [
      "Anzahl verschiedener Gebiete:  217\n"
     ]
    }
   ],
   "source": [
    "print('Anzahl verschiedener Gebiete: ', len(df_filtered['Gebiet'].unique()))"
   ]
  },
  {
   "cell_type": "code",
   "execution_count": 8,
   "metadata": {},
   "outputs": [
    {
     "data": {
      "text/plain": [
       "Gebiet\n",
       "Afghanistan      63\n",
       "Pakistan         63\n",
       "Netherlands      63\n",
       "New Caledonia    63\n",
       "New Zealand      63\n",
       "                 ..\n",
       "Gibraltar        63\n",
       "Greece           63\n",
       "Greenland        63\n",
       "Grenada          63\n",
       "Zimbabwe         63\n",
       "Name: count, Length: 217, dtype: int64"
      ]
     },
     "execution_count": 8,
     "metadata": {},
     "output_type": "execute_result"
    }
   ],
   "source": [
    "df_filtered['Gebiet'].value_counts()"
   ]
  },
  {
   "cell_type": "code",
   "execution_count": 9,
   "metadata": {},
   "outputs": [
    {
     "data": {
      "text/plain": [
       "<Axes: title={'center': 'Anzahl Datenpunkte pro Gebiet'}, xlabel='Gebiet', ylabel='Anzahl Datenpunkte'>"
      ]
     },
     "execution_count": 9,
     "metadata": {},
     "output_type": "execute_result"
    },
    {
     "data": {
      "image/png": "[encoded data removed]",
      "text/plain": [
       "<Figure size 640x480 with 1 Axes>"
      ]
     },
     "metadata": {},
     "output_type": "display_data"
    }
   ],
   "source": [
    "df_filtered['Gebiet'].value_counts().plot(kind='bar', \n",
    "                                 xticks=[],\n",
    "                                 ylabel='Anzahl Datenpunkte', title='Anzahl Datenpunkte pro Gebiet')"
   ]
  },
  {
   "cell_type": "markdown",
   "metadata": {},
   "source": [
    "#### 3.2 Anzahl der Codes"
   ]
  },
  {
   "cell_type": "code",
   "execution_count": 10,
   "metadata": {},
   "outputs": [
    {
     "name": "stdout",
     "output_type": "stream",
     "text": [
      "Anzahl verschiedene Codes:  217\n"
     ]
    }
   ],
   "source": [
    "print('Anzahl verschiedene Codes: ', len(df_filtered['Code'].unique()))"
   ]
  },
  {
   "cell_type": "code",
   "execution_count": 11,
   "metadata": {},
   "outputs": [
    {
     "data": {
      "text/plain": [
       "Code\n",
       "AFG    63\n",
       "PAK    63\n",
       "NLD    63\n",
       "NCL    63\n",
       "NZL    63\n",
       "       ..\n",
       "GIB    63\n",
       "GRC    63\n",
       "GRL    63\n",
       "GRD    63\n",
       "ZWE    63\n",
       "Name: count, Length: 216, dtype: int64"
      ]
     },
     "execution_count": 11,
     "metadata": {},
     "output_type": "execute_result"
    }
   ],
   "source": [
    "df_filtered['Code'].value_counts()"
   ]
  },
  {
   "cell_type": "code",
   "execution_count": 12,
   "metadata": {},
   "outputs": [
    {
     "data": {
      "image/png": "[encoded data removed]",
      "text/plain": [
       "<Figure size 640x480 with 1 Axes>"
      ]
     },
     "metadata": {},
     "output_type": "display_data"
    }
   ],
   "source": [
    "df_filtered['Code'].value_counts().plot(kind='bar',xticks=[], ylabel='Anzahl Datenpunkte', title='Anzahl Datenpunkte pro Code');"
   ]
  },
  {
   "cell_type": "markdown",
   "metadata": {},
   "source": [
    "#### 3.3 Analyse der Jahre"
   ]
  },
  {
   "cell_type": "code",
   "execution_count": 13,
   "metadata": {},
   "outputs": [
    {
     "name": "stdout",
     "output_type": "stream",
     "text": [
      "Anzahl verschiedener Jahre:  63\n"
     ]
    }
   ],
   "source": [
    "print('Anzahl verschiedener Jahre: ', len(df_filtered['Jahr'].unique()))"
   ]
  },
  {
   "cell_type": "code",
   "execution_count": 14,
   "metadata": {},
   "outputs": [
    {
     "data": {
      "text/plain": [
       "Jahr\n",
       "1960    217\n",
       "1961    217\n",
       "1962    217\n",
       "1963    217\n",
       "1964    217\n",
       "       ... \n",
       "2018    217\n",
       "2019    217\n",
       "2020    217\n",
       "2021    217\n",
       "2022    217\n",
       "Name: count, Length: 63, dtype: int64"
      ]
     },
     "execution_count": 14,
     "metadata": {},
     "output_type": "execute_result"
    }
   ],
   "source": [
    "df_filtered['Jahr'].value_counts().sort_index()"
   ]
  },
  {
   "cell_type": "code",
   "execution_count": 15,
   "metadata": {},
   "outputs": [
    {
     "data": {
      "text/plain": [
       "<matplotlib.legend.Legend at 0x28470d9e1e0>"
      ]
     },
     "execution_count": 15,
     "metadata": {},
     "output_type": "execute_result"
    },
    {
     "data": {
      "image/png": "[encoded data removed]",
      "text/plain": [
       "<Figure size 640x480 with 1 Axes>"
      ]
     },
     "metadata": {},
     "output_type": "display_data"
    }
   ],
   "source": [
    "g = df_filtered['Jahr'].value_counts().sort_index().plot(ylabel='Anzahl Datenpunkte', title='Anzahl Datenpunkte pro Jahr');\n",
    "g.legend()"
   ]
  },
  {
   "cell_type": "markdown",
   "metadata": {},
   "source": [
    "#### 3.4 Analyse des weiblichen Anteils der Population in %"
   ]
  },
  {
   "cell_type": "code",
   "execution_count": 16,
   "metadata": {},
   "outputs": [
    {
     "data": {
      "text/html": [
       "<div>\n",
       "<style scoped>\n",
       "    .dataframe tbody tr th:only-of-type {\n",
       "        vertical-align: middle;\n",
       "    }\n",
       "\n",
       "    .dataframe tbody tr th {\n",
       "        vertical-align: top;\n",
       "    }\n",
       "\n",
       "    .dataframe thead th {\n",
       "        text-align: right;\n",
       "    }\n",
       "</style>\n",
       "<table border=\"1\" class=\"dataframe\">\n",
       "  <thead>\n",
       "    <tr style=\"text-align: right;\">\n",
       "      <th></th>\n",
       "      <th>Anteil Population weiblich in %</th>\n",
       "    </tr>\n",
       "  </thead>\n",
       "  <tbody>\n",
       "    <tr>\n",
       "      <th>count</th>\n",
       "      <td>13671.000000</td>\n",
       "    </tr>\n",
       "    <tr>\n",
       "      <th>mean</th>\n",
       "      <td>50.053290</td>\n",
       "    </tr>\n",
       "    <tr>\n",
       "      <th>std</th>\n",
       "      <td>2.567333</td>\n",
       "    </tr>\n",
       "    <tr>\n",
       "      <th>min</th>\n",
       "      <td>23.394217</td>\n",
       "    </tr>\n",
       "    <tr>\n",
       "      <th>25%</th>\n",
       "      <td>49.503991</td>\n",
       "    </tr>\n",
       "    <tr>\n",
       "      <th>50%</th>\n",
       "      <td>50.336970</td>\n",
       "    </tr>\n",
       "    <tr>\n",
       "      <th>75%</th>\n",
       "      <td>51.156237</td>\n",
       "    </tr>\n",
       "    <tr>\n",
       "      <th>max</th>\n",
       "      <td>55.943850</td>\n",
       "    </tr>\n",
       "  </tbody>\n",
       "</table>\n",
       "</div>"
      ],
      "text/plain": [
       "       Anteil Population weiblich in %\n",
       "count                     13671.000000\n",
       "mean                         50.053290\n",
       "std                           2.567333\n",
       "min                          23.394217\n",
       "25%                          49.503991\n",
       "50%                          50.336970\n",
       "75%                          51.156237\n",
       "max                          55.943850"
      ]
     },
     "execution_count": 16,
     "metadata": {},
     "output_type": "execute_result"
    }
   ],
   "source": [
    "x=df_filtered[\"Anteil Population weiblich in %\"].describe()\n",
    "pd.DataFrame(x)"
   ]
  },
  {
   "cell_type": "markdown",
   "metadata": {},
   "source": [
    "Boxplot"
   ]
  },
  {
   "cell_type": "code",
   "execution_count": 28,
   "metadata": {},
   "outputs": [
    {
     "data": {
      "text/plain": [
       "<Axes: title={'center': 'Boxplot des weiblichen Anteils der Population'}, xlabel='Anteil Population weiblich in %'>"
      ]
     },
     "execution_count": 28,
     "metadata": {},
     "output_type": "execute_result"
    },
    {
     "data": {
      "image/png": "[encoded data removed]",
      "text/plain": [
       "<Figure size 640x480 with 1 Axes>"
      ]
     },
     "metadata": {},
     "output_type": "display_data"
    }
   ],
   "source": [
    "g = df_filtered['Anteil Population weiblich in %'].plot(kind='box', vert=False, \n",
    "        title='Boxplot des weiblichen Anteils der Population', \n",
    "        xlabel='Anteil Population weiblich in %')\n",
    "\n",
    "mean = df_filtered['Anteil Population weiblich in %'].mean()\n",
    "g.axvline(x=mean, color='red', linestyle='--', label=f'Mittelwert = {mean:.2f}')\n",
    "\n",
    "median = df_filtered['Anteil Population weiblich in %'].median()\n",
    "g.axvline(x=median, color='orange', linestyle='-', label=f'Median = {median:.2f}')\n",
    "\n",
    "g.legend()\n",
    "\n",
    "sns.violinplot(x=df_filtered['Anteil Population weiblich in %'], density_norm='count')"
   ]
  },
  {
   "cell_type": "markdown",
   "metadata": {},
   "source": [
    "Histogramm"
   ]
  },
  {
   "cell_type": "code",
   "execution_count": 17,
   "metadata": {},
   "outputs": [
    {
     "data": {
      "text/plain": [
       "<matplotlib.legend.Legend at 0x28471101df0>"
      ]
     },
     "execution_count": 17,
     "metadata": {},
     "output_type": "execute_result"
    },
    {
     "data": {
      "image/png": "[encoded data removed]",
      "text/plain": [
       "<Figure size 640x480 with 1 Axes>"
      ]
     },
     "metadata": {},
     "output_type": "display_data"
    }
   ],
   "source": [
    "g = df_filtered['Anteil Population weiblich in %'].plot(kind='hist', bins=20, title='Histogramm des weiblichen Anteils der Population', \n",
    "                           xlabel='Anteil Population weiblich in %', ylabel='Anzahl Datenpunkte')\n",
    "mean = df_filtered['Anteil Population weiblich in %'].mean()\n",
    "g.axvline(x=df_filtered['Anteil Population weiblich in %'].mean(), color='red',label=f'Mittelwert = {mean:.2f}')\n",
    "\n",
    "median = df_filtered['Anteil Population weiblich in %'].median()\n",
    "g.axvline(x=df_filtered['Anteil Population weiblich in %'].median(), color='orange',label=  f'Median = {median:.2f}')\n",
    "\n",
    "g.legend()"
   ]
  },
  {
   "cell_type": "markdown",
   "metadata": {},
   "source": [
    "### 4. Analyse\n",
    "#### Vorgehen\n",
    "- Berechnung der Differenz des Frauenanteils der Population der einzelenen Gebiete im Jahr 2020 im Vergleich zum Jahr 2000.\n",
    "- Darstellung der Auswahl der Gebiete mit den grössten und kleinsten Differenzen.\n",
    "- Filtern der Gebiete mit den höchsten und tiefsten Frauenanteilen.\n",
    "\n",
    "#### Beobachtungen\n",
    "- Die Population der foglenden Länder zeigen die stärkste Reduktion des Frauenanteils in den untersuchten 20 Jahren von mehr als 4 Prozentpunkte: Nördliche Marianen, Maldiven, Qatar, Oman\n",
    "- Die Populatiion der foglenden Länder zeigen die stärkste Zunahme des Frauenanteils in den untersuchten 20 Jahren von mehr als 2 Prozentpunkte: Palau, Nepal, Hong Kong, Britische Jungferninseln\n",
    "\n",
    "#### Interpretation\n",
    "-\n",
    "\n",
    "\n",
    "\n",
    "\n",
    "- Spezifische Untersuchung der Fragestellung (Berechnungen)\n",
    "Visualisieren der Resultate: Verwendet Achsenbeschriftung und überlegt euch, welche Art von Darstellung sinnvoll ist (Kuchen-, Säulen, Liniendiagramm; 2 y-Achsen?)\n",
    "Beschreiben der Beobachtungen\n",
    "Interpretation der Resultate (Hypothesen zu den Resultaten)\n",
    "Untermauern der Interpretation mittels Hinweise zur Literatur (Mögliche Zusammenhänge aufzeigen)."
   ]
  },
  {
   "cell_type": "markdown",
   "metadata": {},
   "source": [
    "#### Berechnungen"
   ]
  },
  {
   "cell_type": "markdown",
   "metadata": {},
   "source": [
    "Berechnung der Differenzen"
   ]
  },
  {
   "cell_type": "code",
   "execution_count": 18,
   "metadata": {},
   "outputs": [
    {
     "data": {
      "text/plain": [
       "Gebiet\n",
       "Northern Mariana Islands    -6.142812\n",
       "Maldives                    -6.106927\n",
       "Qatar                       -5.488384\n",
       "Oman                        -4.763586\n",
       "Sint Maarten (Dutch part)   -4.539051\n",
       "                               ...   \n",
       "Armenia                      2.117164\n",
       "Palau                        2.407177\n",
       "Nepal                        2.844287\n",
       "Hong Kong                    3.127697\n",
       "British Virgin Islands       3.163422\n",
       "Length: 217, dtype: float64"
      ]
     },
     "execution_count": 18,
     "metadata": {},
     "output_type": "execute_result"
    }
   ],
   "source": [
    "diffs= df_pivot[2020]-df_pivot[2000]\n",
    "diffs= diffs.sort_values()\n",
    "diffs"
   ]
  },
  {
   "cell_type": "markdown",
   "metadata": {},
   "source": [
    "Darstellung der Differenzen"
   ]
  },
  {
   "cell_type": "code",
   "execution_count": 19,
   "metadata": {},
   "outputs": [
    {
     "data": {
      "text/plain": [
       "<Axes: title={'center': 'Grösste und kleinste Differenzen des Frauenanteils 2000-2020'}, xlabel='Differenzen des Frauenanteils in Prozentpunkten', ylabel='Gebiet'>"
      ]
     },
     "execution_count": 19,
     "metadata": {},
     "output_type": "execute_result"
    },
    {
     "data": {
      "image/png": "[encoded data removed]",
      "text/plain": [
       "<Figure size 640x480 with 1 Axes>"
      ]
     },
     "metadata": {},
     "output_type": "display_data"
    }
   ],
   "source": [
    "diff_sel = (diffs < -4.6) | (diffs > 2.2)\n",
    "diffs[diff_sel].plot(kind='barh', title='Grösste und kleinste Differenzen des Frauenanteils 2000-2020', xlabel='Differenzen des Frauenanteils in Prozentpunkten')"
   ]
  },
  {
   "cell_type": "markdown",
   "metadata": {},
   "source": [
    "Liste der Gebiete mit den grössten und kleinsten Differenzen"
   ]
  },
  {
   "cell_type": "code",
   "execution_count": 20,
   "metadata": {},
   "outputs": [
    {
     "name": "stdout",
     "output_type": "stream",
     "text": [
      "['Northern Mariana Islands', 'Maldives', 'Qatar', 'Oman', 'Palau', 'Nepal', 'Hong Kong', 'British Virgin Islands']\n"
     ]
    }
   ],
   "source": [
    "Gebiets_liste = diffs[diff_sel].index.tolist()\n",
    "print(Gebiets_liste)"
   ]
  },
  {
   "cell_type": "markdown",
   "metadata": {},
   "source": [
    "Gebiete mit den höchsten Frauenanteilen im Jahr 2000"
   ]
  },
  {
   "cell_type": "code",
   "execution_count": 21,
   "metadata": {},
   "outputs": [
    {
     "data": {
      "text/html": [
       "<div>\n",
       "<style scoped>\n",
       "    .dataframe tbody tr th:only-of-type {\n",
       "        vertical-align: middle;\n",
       "    }\n",
       "\n",
       "    .dataframe tbody tr th {\n",
       "        vertical-align: top;\n",
       "    }\n",
       "\n",
       "    .dataframe thead th {\n",
       "        text-align: right;\n",
       "    }\n",
       "</style>\n",
       "<table border=\"1\" class=\"dataframe\">\n",
       "  <thead>\n",
       "    <tr style=\"text-align: right;\">\n",
       "      <th></th>\n",
       "      <th>Gebiet</th>\n",
       "      <th>Code</th>\n",
       "      <th>Jahr</th>\n",
       "      <th>Anteil Population weiblich in %</th>\n",
       "    </tr>\n",
       "  </thead>\n",
       "  <tbody>\n",
       "    <tr>\n",
       "      <th>7159</th>\n",
       "      <td>Latvia</td>\n",
       "      <td>LVA</td>\n",
       "      <td>2000</td>\n",
       "      <td>54.359528</td>\n",
       "    </tr>\n",
       "    <tr>\n",
       "      <th>13648</th>\n",
       "      <td>Ukraine</td>\n",
       "      <td>UKR</td>\n",
       "      <td>2000</td>\n",
       "      <td>53.690228</td>\n",
       "    </tr>\n",
       "    <tr>\n",
       "      <th>3127</th>\n",
       "      <td>Curacao</td>\n",
       "      <td>CUW</td>\n",
       "      <td>2000</td>\n",
       "      <td>53.607590</td>\n",
       "    </tr>\n",
       "    <tr>\n",
       "      <th>7537</th>\n",
       "      <td>Lithuania</td>\n",
       "      <td>LTU</td>\n",
       "      <td>2000</td>\n",
       "      <td>53.532177</td>\n",
       "    </tr>\n",
       "    <tr>\n",
       "      <th>4828</th>\n",
       "      <td>Georgia</td>\n",
       "      <td>GEO</td>\n",
       "      <td>2000</td>\n",
       "      <td>53.475544</td>\n",
       "    </tr>\n",
       "  </tbody>\n",
       "</table>\n",
       "</div>"
      ],
      "text/plain": [
       "          Gebiet Code  Jahr  Anteil Population weiblich in %\n",
       "7159      Latvia  LVA  2000                        54.359528\n",
       "13648    Ukraine  UKR  2000                        53.690228\n",
       "3127     Curacao  CUW  2000                        53.607590\n",
       "7537   Lithuania  LTU  2000                        53.532177\n",
       "4828     Georgia  GEO  2000                        53.475544"
      ]
     },
     "execution_count": 21,
     "metadata": {},
     "output_type": "execute_result"
    }
   ],
   "source": [
    "df_filtered[df_filtered['Jahr'] == 2000].sort_values(by='Anteil Population weiblich in %', ascending=False).head(5)"
   ]
  },
  {
   "cell_type": "markdown",
   "metadata": {},
   "source": [
    "Gebiete mit den höchsten Frauenanteilen im Jahr 2020"
   ]
  },
  {
   "cell_type": "code",
   "execution_count": 22,
   "metadata": {},
   "outputs": [
    {
     "data": {
      "text/html": [
       "<div>\n",
       "<style scoped>\n",
       "    .dataframe tbody tr th:only-of-type {\n",
       "        vertical-align: middle;\n",
       "    }\n",
       "\n",
       "    .dataframe tbody tr th {\n",
       "        vertical-align: top;\n",
       "    }\n",
       "\n",
       "    .dataframe thead th {\n",
       "        text-align: right;\n",
       "    }\n",
       "</style>\n",
       "<table border=\"1\" class=\"dataframe\">\n",
       "  <thead>\n",
       "    <tr style=\"text-align: right;\">\n",
       "      <th></th>\n",
       "      <th>Gebiet</th>\n",
       "      <th>Code</th>\n",
       "      <th>Jahr</th>\n",
       "      <th>Anteil Population weiblich in %</th>\n",
       "    </tr>\n",
       "  </thead>\n",
       "  <tbody>\n",
       "    <tr>\n",
       "      <th>564</th>\n",
       "      <td>Armenia</td>\n",
       "      <td>ARM</td>\n",
       "      <td>2020</td>\n",
       "      <td>54.893520</td>\n",
       "    </tr>\n",
       "    <tr>\n",
       "      <th>1131</th>\n",
       "      <td>Belarus</td>\n",
       "      <td>BLR</td>\n",
       "      <td>2020</td>\n",
       "      <td>53.859936</td>\n",
       "    </tr>\n",
       "    <tr>\n",
       "      <th>5793</th>\n",
       "      <td>Hong Kong</td>\n",
       "      <td>HKG</td>\n",
       "      <td>2020</td>\n",
       "      <td>53.843403</td>\n",
       "    </tr>\n",
       "    <tr>\n",
       "      <th>7179</th>\n",
       "      <td>Latvia</td>\n",
       "      <td>LVA</td>\n",
       "      <td>2020</td>\n",
       "      <td>53.764580</td>\n",
       "    </tr>\n",
       "    <tr>\n",
       "      <th>13668</th>\n",
       "      <td>Ukraine</td>\n",
       "      <td>UKR</td>\n",
       "      <td>2020</td>\n",
       "      <td>53.695568</td>\n",
       "    </tr>\n",
       "  </tbody>\n",
       "</table>\n",
       "</div>"
      ],
      "text/plain": [
       "          Gebiet Code  Jahr  Anteil Population weiblich in %\n",
       "564      Armenia  ARM  2020                        54.893520\n",
       "1131     Belarus  BLR  2020                        53.859936\n",
       "5793   Hong Kong  HKG  2020                        53.843403\n",
       "7179      Latvia  LVA  2020                        53.764580\n",
       "13668    Ukraine  UKR  2020                        53.695568"
      ]
     },
     "execution_count": 22,
     "metadata": {},
     "output_type": "execute_result"
    }
   ],
   "source": [
    "df_filtered[df_filtered['Jahr'] == 2020].sort_values(by='Anteil Population weiblich in %', ascending=False).head(5)"
   ]
  },
  {
   "cell_type": "markdown",
   "metadata": {},
   "source": [
    "Gebiete mit den tiefsten Frauenanteilen im Jahr 2000"
   ]
  },
  {
   "cell_type": "code",
   "execution_count": 23,
   "metadata": {},
   "outputs": [
    {
     "data": {
      "text/html": [
       "<div>\n",
       "<style scoped>\n",
       "    .dataframe tbody tr th:only-of-type {\n",
       "        vertical-align: middle;\n",
       "    }\n",
       "\n",
       "    .dataframe tbody tr th {\n",
       "        vertical-align: top;\n",
       "    }\n",
       "\n",
       "    .dataframe thead th {\n",
       "        text-align: right;\n",
       "    }\n",
       "</style>\n",
       "<table border=\"1\" class=\"dataframe\">\n",
       "  <thead>\n",
       "    <tr style=\"text-align: right;\">\n",
       "      <th></th>\n",
       "      <th>Gebiet</th>\n",
       "      <th>Code</th>\n",
       "      <th>Jahr</th>\n",
       "      <th>Anteil Population weiblich in %</th>\n",
       "    </tr>\n",
       "  </thead>\n",
       "  <tbody>\n",
       "    <tr>\n",
       "      <th>13711</th>\n",
       "      <td>United Arab Emirates</td>\n",
       "      <td>ARE</td>\n",
       "      <td>2000</td>\n",
       "      <td>31.683650</td>\n",
       "    </tr>\n",
       "    <tr>\n",
       "      <th>10750</th>\n",
       "      <td>Qatar</td>\n",
       "      <td>QAT</td>\n",
       "      <td>2000</td>\n",
       "      <td>32.839424</td>\n",
       "    </tr>\n",
       "    <tr>\n",
       "      <th>922</th>\n",
       "      <td>Bahrain</td>\n",
       "      <td>BHR</td>\n",
       "      <td>2000</td>\n",
       "      <td>41.025410</td>\n",
       "    </tr>\n",
       "    <tr>\n",
       "      <th>6907</th>\n",
       "      <td>Kuwait</td>\n",
       "      <td>KWT</td>\n",
       "      <td>2000</td>\n",
       "      <td>41.453854</td>\n",
       "    </tr>\n",
       "    <tr>\n",
       "      <th>9994</th>\n",
       "      <td>Oman</td>\n",
       "      <td>OMN</td>\n",
       "      <td>2000</td>\n",
       "      <td>42.678240</td>\n",
       "    </tr>\n",
       "  </tbody>\n",
       "</table>\n",
       "</div>"
      ],
      "text/plain": [
       "                     Gebiet Code  Jahr  Anteil Population weiblich in %\n",
       "13711  United Arab Emirates  ARE  2000                        31.683650\n",
       "10750                 Qatar  QAT  2000                        32.839424\n",
       "922                 Bahrain  BHR  2000                        41.025410\n",
       "6907                 Kuwait  KWT  2000                        41.453854\n",
       "9994                   Oman  OMN  2000                        42.678240"
      ]
     },
     "execution_count": 23,
     "metadata": {},
     "output_type": "execute_result"
    }
   ],
   "source": [
    "df_filtered[df_filtered['Jahr'] == 2000].sort_values(by='Anteil Population weiblich in %', ascending=True).head(5)"
   ]
  },
  {
   "cell_type": "markdown",
   "metadata": {},
   "source": [
    "Gebiete mit den tiefsten Frauenanteilen im Jahr 2020"
   ]
  },
  {
   "cell_type": "code",
   "execution_count": 24,
   "metadata": {},
   "outputs": [
    {
     "data": {
      "text/html": [
       "<div>\n",
       "<style scoped>\n",
       "    .dataframe tbody tr th:only-of-type {\n",
       "        vertical-align: middle;\n",
       "    }\n",
       "\n",
       "    .dataframe tbody tr th {\n",
       "        vertical-align: top;\n",
       "    }\n",
       "\n",
       "    .dataframe thead th {\n",
       "        text-align: right;\n",
       "    }\n",
       "</style>\n",
       "<table border=\"1\" class=\"dataframe\">\n",
       "  <thead>\n",
       "    <tr style=\"text-align: right;\">\n",
       "      <th></th>\n",
       "      <th>Gebiet</th>\n",
       "      <th>Code</th>\n",
       "      <th>Jahr</th>\n",
       "      <th>Anteil Population weiblich in %</th>\n",
       "    </tr>\n",
       "  </thead>\n",
       "  <tbody>\n",
       "    <tr>\n",
       "      <th>10770</th>\n",
       "      <td>Qatar</td>\n",
       "      <td>QAT</td>\n",
       "      <td>2020</td>\n",
       "      <td>27.351040</td>\n",
       "    </tr>\n",
       "    <tr>\n",
       "      <th>13731</th>\n",
       "      <td>United Arab Emirates</td>\n",
       "      <td>ARE</td>\n",
       "      <td>2020</td>\n",
       "      <td>30.277092</td>\n",
       "    </tr>\n",
       "    <tr>\n",
       "      <th>942</th>\n",
       "      <td>Bahrain</td>\n",
       "      <td>BHR</td>\n",
       "      <td>2020</td>\n",
       "      <td>37.702248</td>\n",
       "    </tr>\n",
       "    <tr>\n",
       "      <th>10014</th>\n",
       "      <td>Oman</td>\n",
       "      <td>OMN</td>\n",
       "      <td>2020</td>\n",
       "      <td>37.914654</td>\n",
       "    </tr>\n",
       "    <tr>\n",
       "      <th>6927</th>\n",
       "      <td>Kuwait</td>\n",
       "      <td>KWT</td>\n",
       "      <td>2020</td>\n",
       "      <td>38.743393</td>\n",
       "    </tr>\n",
       "  </tbody>\n",
       "</table>\n",
       "</div>"
      ],
      "text/plain": [
       "                     Gebiet Code  Jahr  Anteil Population weiblich in %\n",
       "10770                 Qatar  QAT  2020                        27.351040\n",
       "13731  United Arab Emirates  ARE  2020                        30.277092\n",
       "942                 Bahrain  BHR  2020                        37.702248\n",
       "10014                  Oman  OMN  2020                        37.914654\n",
       "6927                 Kuwait  KWT  2020                        38.743393"
      ]
     },
     "execution_count": 24,
     "metadata": {},
     "output_type": "execute_result"
    }
   ],
   "source": [
    "df_filtered[df_filtered['Jahr'] == 2020].sort_values(by='Anteil Population weiblich in %', ascending=True).head(5)"
   ]
  },
  {
   "cell_type": "code",
   "execution_count": null,
   "metadata": {},
   "outputs": [],
   "source": []
  }
 ],
 "metadata": {
  "kernelspec": {
   "display_name": "base",
   "language": "python",
   "name": "python3"
  },
  "language_info": {
   "codemirror_mode": {
    "name": "ipython",
    "version": 3
   },
   "file_extension": ".py",
   "mimetype": "text/x-python",
   "name": "python",
   "nbconvert_exporter": "python",
   "pygments_lexer": "ipython3",
   "version": "3.12.4"
  }
 },
 "nbformat": 4,
 "nbformat_minor": 2
}
