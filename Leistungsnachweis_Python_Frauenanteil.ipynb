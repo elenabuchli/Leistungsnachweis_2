{
 "cells": [
  {
   "cell_type": "markdown",
   "metadata": {},
   "source": [
    "## Frauenanteil der Bevölkerung zwischen 1960 und 2022\n",
    "\n",
    " Gruppe: Miranda Downing, Elena Buchli\n",
    "\n",
    " Fragen: \n",
    " \n",
    " -In welchen Ländern ist der Bevölkerungsanteil der Frauen zwischen 1960 und 2022 am meisten gesunken oder gestiegen?\n",
    " \n",
    " -Welche Gründe gibt es für die Veränderungen?\n",
    "\n",
    " Quellen:\n",
    " \n",
    " https://ourworldindata.org/gender-ratio"
   ]
  },
  {
   "cell_type": "markdown",
   "metadata": {},
   "source": [
    "### 1. Daten beschaffen und laden\n"
   ]
  },
  {
   "cell_type": "code",
   "execution_count": 18,
   "metadata": {},
   "outputs": [],
   "source": [
    "import pandas as pd\n",
    "import seaborn as sns\n",
    "from matplotlib import pyplot as plt"
   ]
  },
  {
   "cell_type": "code",
   "execution_count": 3,
   "metadata": {},
   "outputs": [
    {
     "data": {
      "text/html": [
       "<div>\n",
       "<style scoped>\n",
       "    .dataframe tbody tr th:only-of-type {\n",
       "        vertical-align: middle;\n",
       "    }\n",
       "\n",
       "    .dataframe tbody tr th {\n",
       "        vertical-align: top;\n",
       "    }\n",
       "\n",
       "    .dataframe thead th {\n",
       "        text-align: right;\n",
       "    }\n",
       "</style>\n",
       "<table border=\"1\" class=\"dataframe\">\n",
       "  <thead>\n",
       "    <tr style=\"text-align: right;\">\n",
       "      <th></th>\n",
       "      <th>Gebiet</th>\n",
       "      <th>Code</th>\n",
       "      <th>Jahr</th>\n",
       "      <th>Anteil Population weiblich in %</th>\n",
       "    </tr>\n",
       "  </thead>\n",
       "  <tbody>\n",
       "    <tr>\n",
       "      <th>0</th>\n",
       "      <td>Afghanistan</td>\n",
       "      <td>AFG</td>\n",
       "      <td>1960</td>\n",
       "      <td>48.083054</td>\n",
       "    </tr>\n",
       "    <tr>\n",
       "      <th>1</th>\n",
       "      <td>Afghanistan</td>\n",
       "      <td>AFG</td>\n",
       "      <td>1961</td>\n",
       "      <td>48.165000</td>\n",
       "    </tr>\n",
       "    <tr>\n",
       "      <th>2</th>\n",
       "      <td>Afghanistan</td>\n",
       "      <td>AFG</td>\n",
       "      <td>1962</td>\n",
       "      <td>48.242370</td>\n",
       "    </tr>\n",
       "    <tr>\n",
       "      <th>3</th>\n",
       "      <td>Afghanistan</td>\n",
       "      <td>AFG</td>\n",
       "      <td>1963</td>\n",
       "      <td>48.315890</td>\n",
       "    </tr>\n",
       "    <tr>\n",
       "      <th>4</th>\n",
       "      <td>Afghanistan</td>\n",
       "      <td>AFG</td>\n",
       "      <td>1964</td>\n",
       "      <td>48.385273</td>\n",
       "    </tr>\n",
       "  </tbody>\n",
       "</table>\n",
       "</div>"
      ],
      "text/plain": [
       "        Gebiet Code  Jahr  Anteil Population weiblich in %\n",
       "0  Afghanistan  AFG  1960                        48.083054\n",
       "1  Afghanistan  AFG  1961                        48.165000\n",
       "2  Afghanistan  AFG  1962                        48.242370\n",
       "3  Afghanistan  AFG  1963                        48.315890\n",
       "4  Afghanistan  AFG  1964                        48.385273"
      ]
     },
     "execution_count": 3,
     "metadata": {},
     "output_type": "execute_result"
    }
   ],
   "source": [
    "df = pd.read_csv('share-population-female.csv', skiprows=1,\n",
    "                 names=['Gebiet','Code','Jahr','Anteil Population weiblich in %']) \n",
    "df.head()  "
   ]
  },
  {
   "cell_type": "markdown",
   "metadata": {},
   "source": [
    "### 2. Daten vorbereiten\n",
    "\n",
    "Welches Format hat mein Datensatz bzw. wie sind meine Kolumnen strukturiert?\n",
    "-> Der Datensatz ist bereits im Longformat.\n",
    "Welches Format kann ich für welche Teilschritte verwenden (wann soll ich pivot bzw. wide format verwenden)?\n",
    "-> Für die Analyse werden die Daten pivotiert. Jede Zeile beschreibt die Daten eines Gebiets. Jede Spalte die Daten des entsprechenden Jahres in aufsteigender Reihenfolge.\n",
    "Welche Datentypen kommen in meinem Datensatz vor?\n",
    "-> Folgende Datentypen kommen in unserem Datentyp vor: Gebiet und Code = Object, Jahr = Integer, Anteil Population weiblich in % = Float\n"
   ]
  },
  {
   "cell_type": "code",
   "execution_count": 4,
   "metadata": {},
   "outputs": [
    {
     "data": {
      "text/html": [
       "<div>\n",
       "<style scoped>\n",
       "    .dataframe tbody tr th:only-of-type {\n",
       "        vertical-align: middle;\n",
       "    }\n",
       "\n",
       "    .dataframe tbody tr th {\n",
       "        vertical-align: top;\n",
       "    }\n",
       "\n",
       "    .dataframe thead th {\n",
       "        text-align: right;\n",
       "    }\n",
       "</style>\n",
       "<table border=\"1\" class=\"dataframe\">\n",
       "  <thead>\n",
       "    <tr style=\"text-align: right;\">\n",
       "      <th>Jahr</th>\n",
       "      <th>1960</th>\n",
       "      <th>1961</th>\n",
       "      <th>1962</th>\n",
       "      <th>1963</th>\n",
       "      <th>1964</th>\n",
       "      <th>1965</th>\n",
       "      <th>1966</th>\n",
       "      <th>1967</th>\n",
       "      <th>1968</th>\n",
       "      <th>1969</th>\n",
       "      <th>...</th>\n",
       "      <th>2013</th>\n",
       "      <th>2014</th>\n",
       "      <th>2015</th>\n",
       "      <th>2016</th>\n",
       "      <th>2017</th>\n",
       "      <th>2018</th>\n",
       "      <th>2019</th>\n",
       "      <th>2020</th>\n",
       "      <th>2021</th>\n",
       "      <th>2022</th>\n",
       "    </tr>\n",
       "    <tr>\n",
       "      <th>Gebiet</th>\n",
       "      <th></th>\n",
       "      <th></th>\n",
       "      <th></th>\n",
       "      <th></th>\n",
       "      <th></th>\n",
       "      <th></th>\n",
       "      <th></th>\n",
       "      <th></th>\n",
       "      <th></th>\n",
       "      <th></th>\n",
       "      <th></th>\n",
       "      <th></th>\n",
       "      <th></th>\n",
       "      <th></th>\n",
       "      <th></th>\n",
       "      <th></th>\n",
       "      <th></th>\n",
       "      <th></th>\n",
       "      <th></th>\n",
       "      <th></th>\n",
       "      <th></th>\n",
       "    </tr>\n",
       "  </thead>\n",
       "  <tbody>\n",
       "    <tr>\n",
       "      <th>Afghanistan</th>\n",
       "      <td>48.083054</td>\n",
       "      <td>48.165000</td>\n",
       "      <td>48.242370</td>\n",
       "      <td>48.315890</td>\n",
       "      <td>48.385273</td>\n",
       "      <td>48.450287</td>\n",
       "      <td>48.511803</td>\n",
       "      <td>48.570465</td>\n",
       "      <td>48.626003</td>\n",
       "      <td>48.677998</td>\n",
       "      <td>...</td>\n",
       "      <td>49.442104</td>\n",
       "      <td>49.432137</td>\n",
       "      <td>49.423183</td>\n",
       "      <td>49.414608</td>\n",
       "      <td>49.419285</td>\n",
       "      <td>49.437210</td>\n",
       "      <td>49.455486</td>\n",
       "      <td>49.470943</td>\n",
       "      <td>49.488403</td>\n",
       "      <td>49.508720</td>\n",
       "    </tr>\n",
       "    <tr>\n",
       "      <th>Albania</th>\n",
       "      <td>48.797123</td>\n",
       "      <td>48.769444</td>\n",
       "      <td>48.734352</td>\n",
       "      <td>48.691364</td>\n",
       "      <td>48.642930</td>\n",
       "      <td>48.592712</td>\n",
       "      <td>48.542490</td>\n",
       "      <td>48.491707</td>\n",
       "      <td>48.440876</td>\n",
       "      <td>48.390232</td>\n",
       "      <td>...</td>\n",
       "      <td>49.840595</td>\n",
       "      <td>49.837696</td>\n",
       "      <td>49.842410</td>\n",
       "      <td>49.856564</td>\n",
       "      <td>49.878532</td>\n",
       "      <td>49.906067</td>\n",
       "      <td>49.939330</td>\n",
       "      <td>49.988052</td>\n",
       "      <td>50.049040</td>\n",
       "      <td>50.117737</td>\n",
       "    </tr>\n",
       "    <tr>\n",
       "      <th>Algeria</th>\n",
       "      <td>49.568150</td>\n",
       "      <td>49.549220</td>\n",
       "      <td>49.444250</td>\n",
       "      <td>49.317616</td>\n",
       "      <td>49.144753</td>\n",
       "      <td>48.956123</td>\n",
       "      <td>48.868008</td>\n",
       "      <td>48.871320</td>\n",
       "      <td>48.872444</td>\n",
       "      <td>48.872456</td>\n",
       "      <td>...</td>\n",
       "      <td>49.024277</td>\n",
       "      <td>49.030834</td>\n",
       "      <td>49.037370</td>\n",
       "      <td>49.041508</td>\n",
       "      <td>49.044548</td>\n",
       "      <td>49.048107</td>\n",
       "      <td>49.053470</td>\n",
       "      <td>49.063175</td>\n",
       "      <td>49.075874</td>\n",
       "      <td>49.085533</td>\n",
       "    </tr>\n",
       "    <tr>\n",
       "      <th>American Samoa</th>\n",
       "      <td>48.648247</td>\n",
       "      <td>48.671580</td>\n",
       "      <td>48.716620</td>\n",
       "      <td>48.763042</td>\n",
       "      <td>48.812675</td>\n",
       "      <td>48.882050</td>\n",
       "      <td>48.926292</td>\n",
       "      <td>48.941566</td>\n",
       "      <td>48.972977</td>\n",
       "      <td>49.037730</td>\n",
       "      <td>...</td>\n",
       "      <td>49.757523</td>\n",
       "      <td>49.824768</td>\n",
       "      <td>49.892930</td>\n",
       "      <td>49.968285</td>\n",
       "      <td>50.061660</td>\n",
       "      <td>50.161076</td>\n",
       "      <td>50.265210</td>\n",
       "      <td>50.375630</td>\n",
       "      <td>50.507380</td>\n",
       "      <td>50.592910</td>\n",
       "    </tr>\n",
       "    <tr>\n",
       "      <th>Andorra</th>\n",
       "      <td>49.454624</td>\n",
       "      <td>49.236492</td>\n",
       "      <td>49.046670</td>\n",
       "      <td>48.847030</td>\n",
       "      <td>48.660362</td>\n",
       "      <td>48.492220</td>\n",
       "      <td>48.301937</td>\n",
       "      <td>48.034298</td>\n",
       "      <td>47.754550</td>\n",
       "      <td>47.520190</td>\n",
       "      <td>...</td>\n",
       "      <td>49.496265</td>\n",
       "      <td>49.528770</td>\n",
       "      <td>49.559560</td>\n",
       "      <td>49.507860</td>\n",
       "      <td>49.373620</td>\n",
       "      <td>49.248800</td>\n",
       "      <td>49.123035</td>\n",
       "      <td>49.014156</td>\n",
       "      <td>48.932106</td>\n",
       "      <td>48.905090</td>\n",
       "    </tr>\n",
       "  </tbody>\n",
       "</table>\n",
       "<p>5 rows × 63 columns</p>\n",
       "</div>"
      ],
      "text/plain": [
       "Jahr                 1960       1961       1962       1963       1964  \\\n",
       "Gebiet                                                                  \n",
       "Afghanistan     48.083054  48.165000  48.242370  48.315890  48.385273   \n",
       "Albania         48.797123  48.769444  48.734352  48.691364  48.642930   \n",
       "Algeria         49.568150  49.549220  49.444250  49.317616  49.144753   \n",
       "American Samoa  48.648247  48.671580  48.716620  48.763042  48.812675   \n",
       "Andorra         49.454624  49.236492  49.046670  48.847030  48.660362   \n",
       "\n",
       "Jahr                 1965       1966       1967       1968       1969  ...  \\\n",
       "Gebiet                                                                 ...   \n",
       "Afghanistan     48.450287  48.511803  48.570465  48.626003  48.677998  ...   \n",
       "Albania         48.592712  48.542490  48.491707  48.440876  48.390232  ...   \n",
       "Algeria         48.956123  48.868008  48.871320  48.872444  48.872456  ...   \n",
       "American Samoa  48.882050  48.926292  48.941566  48.972977  49.037730  ...   \n",
       "Andorra         48.492220  48.301937  48.034298  47.754550  47.520190  ...   \n",
       "\n",
       "Jahr                 2013       2014       2015       2016       2017  \\\n",
       "Gebiet                                                                  \n",
       "Afghanistan     49.442104  49.432137  49.423183  49.414608  49.419285   \n",
       "Albania         49.840595  49.837696  49.842410  49.856564  49.878532   \n",
       "Algeria         49.024277  49.030834  49.037370  49.041508  49.044548   \n",
       "American Samoa  49.757523  49.824768  49.892930  49.968285  50.061660   \n",
       "Andorra         49.496265  49.528770  49.559560  49.507860  49.373620   \n",
       "\n",
       "Jahr                 2018       2019       2020       2021       2022  \n",
       "Gebiet                                                                 \n",
       "Afghanistan     49.437210  49.455486  49.470943  49.488403  49.508720  \n",
       "Albania         49.906067  49.939330  49.988052  50.049040  50.117737  \n",
       "Algeria         49.048107  49.053470  49.063175  49.075874  49.085533  \n",
       "American Samoa  50.161076  50.265210  50.375630  50.507380  50.592910  \n",
       "Andorra         49.248800  49.123035  49.014156  48.932106  48.905090  \n",
       "\n",
       "[5 rows x 63 columns]"
      ]
     },
     "execution_count": 4,
     "metadata": {},
     "output_type": "execute_result"
    }
   ],
   "source": [
    "df_pivot = df.pivot(index='Gebiet', columns='Jahr', values='Anteil Population weiblich in %')\n",
    "df_pivot.head()"
   ]
  },
  {
   "cell_type": "markdown",
   "metadata": {},
   "source": [
    "### 3. Statistik der Rohdaten (Analyse im Long-Format)\n",
    "Ist meine Variable kontinuierlich oder diskret?\n",
    "Falls diskret, wieviele einzigartige Klassen gibt es? \n",
    "Wieviele Datenpunkte pro Klasse sind vorhanden?\n",
    "Anzahl Datenpunkte (Beschreibend und Graphische Darstellung)\n",
    "Wieviele Datenpunkte sind für die bestimmten Variabeln vorhanden?\n",
    "Wo fehlen Datenpunkte?\n",
    "Wie ist die Verteilung der zu untersuchenden Variabel(n) (Histogram, Boxplot, Säulendiagram)\n",
    "Vermutest du Zusammenhänge zwischen zwei Variabeln (Streuungsdiagramm, Korrelationsmatrix)\n",
    "Notiz: Zu jeder Kolumne sollte generell eine Aussage möglich sein."
   ]
  },
  {
   "cell_type": "markdown",
   "metadata": {},
   "source": [
    "Über die einzelnen Spalten kann folgendes ausgesagt werden:\n",
    "- Die Spalte Gebiete enthält 231 verschieden Gebiete\n",
    "- Die Spalte Codes enthält 218 verschiedene Codes\n",
    "- Es sind Daten zwischen 1960 and 2022 vollständig von allen Gebieten vorhanden.\n",
    "- Der weibliche Anteil der Population streut zwischen 23.4% und 55.9%."
   ]
  },
  {
   "cell_type": "code",
   "execution_count": 6,
   "metadata": {},
   "outputs": [
    {
     "data": {
      "text/plain": [
       "Gebiet                              object\n",
       "Code                                object\n",
       "Jahr                                 int64\n",
       "Anteil Population weiblich in %    float64\n",
       "dtype: object"
      ]
     },
     "execution_count": 6,
     "metadata": {},
     "output_type": "execute_result"
    }
   ],
   "source": [
    "df.dtypes"
   ]
  },
  {
   "cell_type": "markdown",
   "metadata": {},
   "source": [
    "#### 3.1 Analyse der Gebiete"
   ]
  },
  {
   "cell_type": "code",
   "execution_count": 7,
   "metadata": {},
   "outputs": [
    {
     "name": "stdout",
     "output_type": "stream",
     "text": [
      "Anzahl verschiedener Gebiete:  231\n"
     ]
    }
   ],
   "source": [
    "print('Anzahl verschiedener Gebiete: ', len(df['Gebiet'].unique()))"
   ]
  },
  {
   "cell_type": "code",
   "execution_count": 9,
   "metadata": {},
   "outputs": [
    {
     "data": {
      "text/plain": [
       "Gebiet\n",
       "Afghanistan      63\n",
       "Nauru            63\n",
       "Netherlands      63\n",
       "New Caledonia    63\n",
       "New Zealand      63\n",
       "                 ..\n",
       "Greenland        63\n",
       "Grenada          63\n",
       "Guam             63\n",
       "Guatemala        63\n",
       "Zimbabwe         63\n",
       "Name: count, Length: 231, dtype: int64"
      ]
     },
     "execution_count": 9,
     "metadata": {},
     "output_type": "execute_result"
    }
   ],
   "source": [
    "df['Gebiet'].value_counts()"
   ]
  },
  {
   "cell_type": "code",
   "execution_count": 10,
   "metadata": {},
   "outputs": [
    {
     "data": {
      "text/plain": [
       "<Axes: title={'center': 'Anzahl Datenpunkte pro Gebiet'}, xlabel='Gebiet', ylabel='Anzahl Datenpunkte'>"
      ]
     },
     "execution_count": 10,
     "metadata": {},
     "output_type": "execute_result"
    },
    {
     "data": {
      "image/png": "[encoded data removed]",
      "text/plain": [
       "<Figure size 640x480 with 1 Axes>"
      ]
     },
     "metadata": {},
     "output_type": "display_data"
    }
   ],
   "source": [
    "df['Gebiet'].value_counts().plot(kind='bar', \n",
    "                                 xticks=[],\n",
    "                                 ylabel='Anzahl Datenpunkte', title='Anzahl Datenpunkte pro Gebiet')"
   ]
  },
  {
   "cell_type": "markdown",
   "metadata": {},
   "source": [
    "#### 3.2 Anzahl der Codes"
   ]
  },
  {
   "cell_type": "code",
   "execution_count": 8,
   "metadata": {},
   "outputs": [
    {
     "name": "stdout",
     "output_type": "stream",
     "text": [
      "Anzahl verschiedene Codes:  218\n"
     ]
    }
   ],
   "source": [
    "print('Anzahl verschiedene Codes: ', len(df['Code'].unique()))"
   ]
  },
  {
   "cell_type": "code",
   "execution_count": 11,
   "metadata": {},
   "outputs": [
    {
     "data": {
      "text/plain": [
       "Code\n",
       "AFG    63\n",
       "PLW    63\n",
       "NCL    63\n",
       "NZL    63\n",
       "NIC    63\n",
       "       ..\n",
       "GRC    63\n",
       "GRL    63\n",
       "GRD    63\n",
       "GUM    63\n",
       "ZWE    63\n",
       "Name: count, Length: 217, dtype: int64"
      ]
     },
     "execution_count": 11,
     "metadata": {},
     "output_type": "execute_result"
    }
   ],
   "source": [
    "df['Code'].value_counts()"
   ]
  },
  {
   "cell_type": "code",
   "execution_count": 12,
   "metadata": {},
   "outputs": [
    {
     "data": {
      "image/png": "[encoded data removed]",
      "text/plain": [
       "<Figure size 640x480 with 1 Axes>"
      ]
     },
     "metadata": {},
     "output_type": "display_data"
    }
   ],
   "source": [
    "df['Code'].value_counts().plot(kind='bar',xticks=[], ylabel='Anzahl Datenpunkte', title='Anzahl Datenpunkte pro Code');"
   ]
  },
  {
   "cell_type": "markdown",
   "metadata": {},
   "source": [
    "#### 3.3 Analyse der Jahre"
   ]
  },
  {
   "cell_type": "code",
   "execution_count": 13,
   "metadata": {},
   "outputs": [
    {
     "name": "stdout",
     "output_type": "stream",
     "text": [
      "Anzahl verschiedener Jahre:  63\n"
     ]
    }
   ],
   "source": [
    "print('Anzahl verschiedener Jahre: ', len(df['Jahr'].unique()))"
   ]
  },
  {
   "cell_type": "code",
   "execution_count": 14,
   "metadata": {},
   "outputs": [
    {
     "data": {
      "text/plain": [
       "Jahr\n",
       "1960    231\n",
       "1961    231\n",
       "1962    231\n",
       "1963    231\n",
       "1964    231\n",
       "       ... \n",
       "2018    231\n",
       "2019    231\n",
       "2020    231\n",
       "2021    231\n",
       "2022    231\n",
       "Name: count, Length: 63, dtype: int64"
      ]
     },
     "execution_count": 14,
     "metadata": {},
     "output_type": "execute_result"
    }
   ],
   "source": [
    "df['Jahr'].value_counts().sort_index()"
   ]
  },
  {
   "cell_type": "code",
   "execution_count": 15,
   "metadata": {},
   "outputs": [
    {
     "data": {
      "text/plain": [
       "<matplotlib.legend.Legend at 0x22b3d85b5f0>"
      ]
     },
     "execution_count": 15,
     "metadata": {},
     "output_type": "execute_result"
    },
    {
     "data": {
      "image/png": "[encoded data removed]",
      "text/plain": [
       "<Figure size 640x480 with 1 Axes>"
      ]
     },
     "metadata": {},
     "output_type": "display_data"
    }
   ],
   "source": [
    "g = df['Jahr'].value_counts().sort_index().plot(ylabel='Anzahl Datenpunkte', title='Anzahl Datenpunkte pro Jahr');\n",
    "g.legend()"
   ]
  },
  {
   "cell_type": "markdown",
   "metadata": {},
   "source": [
    "#### 3.4 Analyse des weiblichen Anteils der Population in %"
   ]
  },
  {
   "cell_type": "code",
   "execution_count": 17,
   "metadata": {},
   "outputs": [
    {
     "data": {
      "text/html": [
       "<div>\n",
       "<style scoped>\n",
       "    .dataframe tbody tr th:only-of-type {\n",
       "        vertical-align: middle;\n",
       "    }\n",
       "\n",
       "    .dataframe tbody tr th {\n",
       "        vertical-align: top;\n",
       "    }\n",
       "\n",
       "    .dataframe thead th {\n",
       "        text-align: right;\n",
       "    }\n",
       "</style>\n",
       "<table border=\"1\" class=\"dataframe\">\n",
       "  <thead>\n",
       "    <tr style=\"text-align: right;\">\n",
       "      <th></th>\n",
       "      <th>Jahr</th>\n",
       "      <th>Anteil Population weiblich in %</th>\n",
       "    </tr>\n",
       "  </thead>\n",
       "  <tbody>\n",
       "    <tr>\n",
       "      <th>count</th>\n",
       "      <td>14553.000000</td>\n",
       "      <td>14553.000000</td>\n",
       "    </tr>\n",
       "    <tr>\n",
       "      <th>mean</th>\n",
       "      <td>1991.000000</td>\n",
       "      <td>50.053526</td>\n",
       "    </tr>\n",
       "    <tr>\n",
       "      <th>std</th>\n",
       "      <td>18.184867</td>\n",
       "      <td>2.499612</td>\n",
       "    </tr>\n",
       "    <tr>\n",
       "      <th>min</th>\n",
       "      <td>1960.000000</td>\n",
       "      <td>23.394217</td>\n",
       "    </tr>\n",
       "    <tr>\n",
       "      <th>25%</th>\n",
       "      <td>1975.000000</td>\n",
       "      <td>49.492176</td>\n",
       "    </tr>\n",
       "    <tr>\n",
       "      <th>50%</th>\n",
       "      <td>1991.000000</td>\n",
       "      <td>50.317974</td>\n",
       "    </tr>\n",
       "    <tr>\n",
       "      <th>75%</th>\n",
       "      <td>2007.000000</td>\n",
       "      <td>51.123978</td>\n",
       "    </tr>\n",
       "    <tr>\n",
       "      <th>max</th>\n",
       "      <td>2022.000000</td>\n",
       "      <td>55.943850</td>\n",
       "    </tr>\n",
       "  </tbody>\n",
       "</table>\n",
       "</div>"
      ],
      "text/plain": [
       "               Jahr  Anteil Population weiblich in %\n",
       "count  14553.000000                     14553.000000\n",
       "mean    1991.000000                        50.053526\n",
       "std       18.184867                         2.499612\n",
       "min     1960.000000                        23.394217\n",
       "25%     1975.000000                        49.492176\n",
       "50%     1991.000000                        50.317974\n",
       "75%     2007.000000                        51.123978\n",
       "max     2022.000000                        55.943850"
      ]
     },
     "execution_count": 17,
     "metadata": {},
     "output_type": "execute_result"
    }
   ],
   "source": [
    "df.describe()"
   ]
  },
  {
   "cell_type": "code",
   "execution_count": 19,
   "metadata": {},
   "outputs": [
    {
     "data": {
      "text/plain": [
       "<matplotlib.legend.Legend at 0x22b3f5d8d70>"
      ]
     },
     "execution_count": 19,
     "metadata": {},
     "output_type": "execute_result"
    },
    {
     "data": {
      "image/png": "[encoded data removed]",
      "text/plain": [
       "<Figure size 640x480 with 1 Axes>"
      ]
     },
     "metadata": {},
     "output_type": "display_data"
    }
   ],
   "source": [
    "g = df['Anteil Population weiblich in %'].plot(kind='hist', bins=20, title='Histogramm des weiblichen Anteils der Population', \n",
    "                           xlabel='Anteil Population weiblich in %', ylabel='Anzahl Datenpunkte')\n",
    "mean = df['Anteil Population weiblich in %'].mean()\n",
    "g.axvline(x=df['Anteil Population weiblich in %'].mean(), color='red',label=f'Mittelwert = {mean:.2f}')  # rote Linie bei Mittelwert\n",
    "\n",
    "median = df['Anteil Population weiblich in %'].median()\n",
    "g.axvline(x=df['Anteil Population weiblich in %'].median(), color='orange',label=  f'Median = {median:.2f}')  # orange Linie bei Median\n",
    "\n",
    "g.legend()"
   ]
  },
  {
   "cell_type": "markdown",
   "metadata": {},
   "source": [
    "### 4. Analyse\n",
    "Vorgehen\n",
    "Spezifische Untersuchung der Fragestellung (Berechnungen)\n",
    "Visualisieren der Resultate: Verwendet Achsenbeschriftung und überlegt euch, welche Art von Darstellung sinnvoll ist (Kuchen-, Säulen, Liniendiagramm; 2 y-Achsen?)\n",
    "Beschreiben der Beobachtungen\n",
    "Interpretation der Resultate (Hypothesen zu den Resultaten)\n",
    "Untermauern der Interpretation mittels Hinweise zur Literatur (Mögliche Zusammenhänge aufzeigen)."
   ]
  },
  {
   "cell_type": "markdown",
   "metadata": {},
   "source": []
  }
 ],
 "metadata": {
  "kernelspec": {
   "display_name": "base",
   "language": "python",
   "name": "python3"
  },
  "language_info": {
   "codemirror_mode": {
    "name": "ipython",
    "version": 3
   },
   "file_extension": ".py",
   "mimetype": "text/x-python",
   "name": "python",
   "nbconvert_exporter": "python",
   "pygments_lexer": "ipython3",
   "version": "3.12.4"
  }
 },
 "nbformat": 4,
 "nbformat_minor": 2
}
